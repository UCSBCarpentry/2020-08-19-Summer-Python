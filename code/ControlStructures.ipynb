{
 "cells": [
  {
   "cell_type": "markdown",
   "metadata": {},
   "source": [
    "# Python Control Structures"
   ]
  },
  {
   "cell_type": "markdown",
   "metadata": {},
   "source": [
    "---\n",
    "### if\n",
    "\n",
    "allows you to conditionaly execute parts of your code\n",
    "```\n",
    "if expression :\n",
    "    statement 1\n",
    "    statement 2\n",
    "statement outside of the if block\n",
    "```"
   ]
  },
  {
   "cell_type": "code",
   "execution_count": 9,
   "metadata": {},
   "outputs": [
    {
     "name": "stdout",
     "output_type": "stream",
     "text": [
      "this is line 4\n"
     ]
    }
   ],
   "source": [
    "if 5 > 6  :\n",
    "    print(\"The condition evaluated to TRUE\")\n",
    "    print(\" this line 3\")\n",
    "print(\"this is line 4\")"
   ]
  },
  {
   "cell_type": "markdown",
   "metadata": {},
   "source": [
    "### Exercise\n",
    "#### Add another if statement to example below that will check if b is greater than or equal to a"
   ]
  },
  {
   "cell_type": "code",
   "execution_count": 18,
   "metadata": {},
   "outputs": [
    {
     "name": "stdout",
     "output_type": "stream",
     "text": [
      "The value of a is 23  The value of b is 1\n",
      "line 5  23 is bigger than  1\n"
     ]
    }
   ],
   "source": [
    "a = 23\n",
    "b = 1\n",
    "print(\"The value of a is\", a, \" The value of b is\",b)\n",
    "if a > b :\n",
    "    print(\"at line 5 \", a, \"is bigger than \", b)\n",
    "if a <= b :\n",
    "    print(\"at line 7 \", b, \" is bigger than or equal to \", a)\n",
    "    "
   ]
  },
  {
   "cell_type": "markdown",
   "metadata": {},
   "source": [
    "---\n",
    "### if else\n",
    "\n"
   ]
  },
  {
   "cell_type": "markdown",
   "metadata": {},
   "source": [
    "```\n",
    "if condition:\n",
    "  executed when condition is true\n",
    "else\n",
    "  executed when condition is false\n",
    "```"
   ]
  },
  {
   "cell_type": "code",
   "execution_count": 20,
   "metadata": {},
   "outputs": [
    {
     "name": "stdout",
     "output_type": "stream",
     "text": [
      "this is line 4\n"
     ]
    }
   ],
   "source": [
    "if 20 > 100 :\n",
    "    print(\"this is line 2\")\n",
    "else:\n",
    "    print(\"this is line 4\")\n",
    "\n"
   ]
  },
  {
   "cell_type": "code",
   "execution_count": null,
   "metadata": {
    "jupyter": {
     "source_hidden": true
    }
   },
   "outputs": [],
   "source": [
    "if 1 > 19:\n",
    "    print(\"this is line 2\")\n",
    "else:\n",
    "    print(\"this is line 4\")"
   ]
  },
  {
   "cell_type": "markdown",
   "metadata": {},
   "source": [
    "---\n",
    "### if elif else\n"
   ]
  },
  {
   "cell_type": "markdown",
   "metadata": {
    "jupyter": {
     "source_hidden": true
    }
   },
   "source": [
    "```\n",
    "a = 5\n",
    "b = 4\n",
    "print(\"a = \", a, \"and b = \", b)\n",
    "\n",
    "if a > b :\n",
    "    print(a, \" is greater than \", b)\n",
    "elif a == b :\n",
    "    print(a, \" equals \", b)\n",
    "else :\n",
    "    print(a, \" is less than \", b)\n",
    "```"
   ]
  },
  {
   "cell_type": "code",
   "execution_count": null,
   "metadata": {
    "jupyter": {
     "source_hidden": true
    }
   },
   "outputs": [],
   "source": [
    "a = 18\n",
    "b = 20\n",
    "print(\"a = \", a, \"and b = \", b)\n",
    "if a > b :\n",
    "    print(\"at line 5 \", a, \" is greater than \", b)\n",
    "elif a == b :\n",
    "    print(\"at line 7 \", a, \" equals \", b)\n",
    "else :\n",
    "    print(\"at line 9 \", a, \" is less than \", b)"
   ]
  },
  {
   "cell_type": "markdown",
   "metadata": {},
   "source": [
    "---\n",
    "### while loop\n",
    "```\n",
    "i = 0\n",
    "while i condition :\n",
    "  print(\"in this iteration the value of i is \", i)\n",
    "  i = i + 1\n",
    "```"
   ]
  },
  {
   "cell_type": "code",
   "execution_count": null,
   "metadata": {
    "jupyter": {
     "source_hidden": true
    }
   },
   "outputs": [],
   "source": [
    "i = 0\n",
    "while i < 5 :\n",
    "  print(\"in this iteration the value of i is \", i)\n",
    "  i = i + 1\n",
    "\n"
   ]
  },
  {
   "cell_type": "markdown",
   "metadata": {},
   "source": [
    "---\n",
    "### for loop\n",
    "```\n",
    "for variable_name in some_sequence :\n",
    "    statement\n",
    "```"
   ]
  },
  {
   "cell_type": "code",
   "execution_count": null,
   "metadata": {
    "jupyter": {
     "source_hidden": true
    }
   },
   "outputs": [],
   "source": [
    "for i in [1,8,3]:\n",
    "    print(i)\n"
   ]
  },
  {
   "cell_type": "code",
   "execution_count": null,
   "metadata": {
    "jupyter": {
     "source_hidden": true
    }
   },
   "outputs": [],
   "source": [
    "for myCharacter in \"the quick brown fox\":\n",
    "    print(\"in this iteration of the for loop the value of myCharacter is \", myCharacter)"
   ]
  },
  {
   "cell_type": "markdown",
   "metadata": {},
   "source": [
    "---\n",
    "#### Exercise\n",
    "\n",
    "Suppose that we have a string containing a set of 4 different values separated by semicolons like this:\n",
    "```\n",
    "items_owned = \"bicycle;television;solar_panel;table\"\n",
    "```\n",
    "Research the `split()` method and then rewrite the example so that it prints the 4 components of items_owned\n",
    "\n",
    "*Hint*\n",
    "```\n",
    "help(\"\".split)\n",
    "```"
   ]
  },
  {
   "cell_type": "code",
   "execution_count": null,
   "metadata": {},
   "outputs": [],
   "source": [
    "items_owned = \"bicycle;television;solar_panel;table\""
   ]
  },
  {
   "cell_type": "code",
   "execution_count": null,
   "metadata": {},
   "outputs": [],
   "source": []
  },
  {
   "cell_type": "code",
   "execution_count": null,
   "metadata": {},
   "outputs": [],
   "source": []
  }
 ],
 "metadata": {
  "kernelspec": {
   "display_name": "Python 3",
   "language": "python",
   "name": "python3"
  },
  "language_info": {
   "codemirror_mode": {
    "name": "ipython",
    "version": 3
   },
   "file_extension": ".py",
   "mimetype": "text/x-python",
   "name": "python",
   "nbconvert_exporter": "python",
   "pygments_lexer": "ipython3",
   "version": "3.8.5"
  }
 },
 "nbformat": 4,
 "nbformat_minor": 4
}
