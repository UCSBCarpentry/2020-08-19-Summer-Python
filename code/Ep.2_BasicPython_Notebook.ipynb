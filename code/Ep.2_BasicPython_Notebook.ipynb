{
 "cells": [
  {
   "cell_type": "markdown",
   "metadata": {},
   "source": [
    "# Python Basics"
   ]
  },
  {
   "cell_type": "markdown",
   "metadata": {},
   "source": [
    "## Using the Jupyter environment\n",
    "### New cells\n",
    "From the insert menu item you can insert a new cell anywhere in the notebook either above or below the current cell. You can also use the + button on the toolbar to insert a new cell below.\n",
    "Navigation shortcuts - **esc** to enter command mode. \n",
    "When in command mode you can use **a** to create cell above , **b** below and **x** to delete\n",
    "\n",
    "### Change cell type\n",
    "By default new cells are created as code cells. From the cell menu item you can change the type of a cell from code to markdown. Markdown is a markup language for formatting text, it has much of the power of HTML, but is specifically designed to be human-readable as well. You can use Markdown cells to insert formatted textual explanation and analysis into your notebook. m is the shortcut\n",
    "\n",
    "### Hiding output\n",
    "When you run cells of code the output is displayed immediately below the cell. In general this is convenient. The output is associated with the cell that produced it and remains a part of the notebook. So if you copy or move the notebook the output stays with the code.\n",
    "\n",
    "However lots of output can make the notebook look cluttered and more difficult to move around. So there is an option available from the cell menu item to ‘toggle’ or ‘clear’ the output associated either with an individual cell or all cells in the notebook."
   ]
  },
  {
   "cell_type": "markdown",
   "metadata": {},
   "source": [
    "## Creating Variables & Assigning values \n",
    "(int, float, string)\n",
    "### functions:\n",
    "print()\n",
    "type()\n",
    "\n",
    "There are many more data types available, a full list is available in the Python documentation (https://docs.python.org/3/library/datatypes.html). We will be looking a few of them later on.\n",
    "\n",
    "Python uses = to assign values to .\n",
    "variables are letters, word(s) that hold a value in python's memory (kinda like a label), also called Objects."
   ]
  },
  {
   "cell_type": "code",
   "execution_count": 44,
   "metadata": {},
   "outputs": [
    {
     "name": "stdout",
     "output_type": "stream",
     "text": [
      "<class 'int'>\n",
      "<class 'float'>\n",
      "<class 'str'>\n"
     ]
    }
   ],
   "source": [
    "a = 2  #integer\n",
    "b = 3.1412   #float\n",
    "s = \"Hello World\"   #string\n",
    "print(type(a))\n",
    "print(type(b))\n",
    "print(type(s))"
   ]
  },
  {
   "cell_type": "markdown",
   "metadata": {},
   "source": [
    "## Arithmetic operations\n",
    "For now we will stick with the numeric types and do some arithmetic.\n",
    "\n",
    "All of the usual arithmetic operators are available.\n",
    "\n",
    "In the examples below we also introduce the Python comment symbol #. Anything to the right of the # symbol is treated as a comment. To a large extent using Markdown cells in a notebook reduces the need for comments in the code in a notebook, but occasionally they can be useful.\n",
    "\n",
    "We also make use of the built-in print() function, which displays formatted text."
   ]
  },
  {
   "cell_type": "code",
   "execution_count": 45,
   "metadata": {},
   "outputs": [
    {
     "name": "stdout",
     "output_type": "stream",
     "text": [
      "a = 2 and b = 3.1412\n",
      "5.1411999999999995\n",
      "6.2824\n",
      "-1.1412\n",
      "0.6366993505666624\n",
      "9.86713744\n",
      "0.8588\n"
     ]
    }
   ],
   "source": [
    "print(\"a =\", a, \"and b =\" , b)\n",
    "print(a + b)      # addition\n",
    "print(a * b)      # multiplication\n",
    "print(a - b)      # subtraction\n",
    "print(a / b)      # division\n",
    "print(b ** a)     # exponentiation\n",
    "print(2 * a % b)  # modulus - returns the remainder"
   ]
  },
  {
   "cell_type": "markdown",
   "metadata": {},
   "source": [
    "## *Exercise*\n",
    "\n",
    "1. Create a new cell and paste into it the assignments to the variables a and b and the contents of the code cell above with all of the print statements. Remove all of the calls to the print function so you only have the expressions that were to be printed and run the code. What is returned?\n",
    "\n",
    "2. Now remove all but the first line (with the 4 items in it) and run the cell again. How does this output differ from when we used the print function?\n",
    "\n",
    "3. Practice assigning values to variables using as many different operators as you can think of.\n",
    "\n",
    "4. Create some expressions to be evaluated using parentheses to enforce the order of mathematical operations that you require"
   ]
  },
  {
   "cell_type": "markdown",
   "metadata": {},
   "source": [
    "## *Solution*\n",
    "1. Only the last result is printed.\n",
    "2. The 4 ‘items’ are printed by the REPL, but not in the same way as the print statement. The items in quotes are treated as separate strings, for the variables a and b the values are printed. All four items are treated as a ‘tuple’ which are shown in parentheses, a tuple is another data type in Python that allows you to group things together and treat as a unit. We can tell that it is a tuple because of the ()\n",
    "\n",
    "A complete set of Python operators can be found in the official documentation (https://docs.python.org/3.5/library/operator.html#mapping-operators-to-functions). The documentation may appear a bit confusing as it initially talks about operators as functions whereas we generally use them as ‘in place’ operators. Section 10.3.1 provides a table which list all of the available operators, not all of which are relevant to basic arithmetic.\n",
    "\n",
    "more operators: https://www.w3schools.com/python/python_operators.asp"
   ]
  },
  {
   "cell_type": "markdown",
   "metadata": {},
   "source": [
    "## Using built-in functions\n",
    "Python has a reasonable number of built-in functions. You can find a complete list in the official documentation. (https://docs.python.org/3/library/functions.html)\n",
    "\n",
    "Additional functions are provided by 3rd party packages which we will look at later on.\n",
    "\n",
    "For any function, a common question to ask is: What parameters does this function take?\n",
    "\n",
    "In order to answer this from Jupyter, you can type the function name and then type shift+tab and a pop-up window will provide you with various details about the function including the parameters."
   ]
  },
  {
   "cell_type": "markdown",
   "metadata": {},
   "source": [
    "## *Exercise*\n",
    "For the print() function find out what parameters can be provided\n",
    "\n",
    "*Solution*\n",
    "For the print() function find out what parameters can be provided"
   ]
  },
  {
   "cell_type": "markdown",
   "metadata": {},
   "source": [
    "## Getting Help for Python\n",
    "You can get help on any Python function by using the help function. It takes a single parameter of the function name for which you want the help\n",
    "\n",
    "help(print)\n",
    "\n",
    "\n",
    "There is a great deal of Python help and information as well as code examples available from the internet. One popular site is stackoverflow which specialises in providing programming help. They have dedicated forums not only for Python but also for many of the popular 3rd party Python packages. They also always provide code examples to illustrate answers to questions.\n",
    "\n",
    "You can also get answers to your queries by simply inputting your question (or selected keywords) into any search engine.\n",
    "\n",
    "A couple of things you may need to be wary of: There are currently 2 versions of Python in use, in most cases code examples will run in either but there are some exceptions. Secondly, some replies may assume a knowledge of Python beyond your own, making the answers difficult to follow. But for any given question there will be a whole range of suggested solutions so you can always move on to the next."
   ]
  },
  {
   "cell_type": "code",
   "execution_count": 46,
   "metadata": {},
   "outputs": [
    {
     "name": "stdout",
     "output_type": "stream",
     "text": [
      "Help on built-in function print in module builtins:\n",
      "\n",
      "print(...)\n",
      "    print(value, ..., sep=' ', end='\\n', file=sys.stdout, flush=False)\n",
      "    \n",
      "    Prints the values to a stream, or to sys.stdout by default.\n",
      "    Optional keyword arguments:\n",
      "    file:  a file-like object (stream); defaults to the current sys.stdout.\n",
      "    sep:   string inserted between values, default a space.\n",
      "    end:   string appended after the last value, default a newline.\n",
      "    flush: whether to forcibly flush the stream.\n",
      "\n"
     ]
    }
   ],
   "source": [
    "help(print)"
   ]
  },
  {
   "cell_type": "markdown",
   "metadata": {},
   "source": [
    "## Data types and how Python uses them\n",
    "### Basic Python data types"
   ]
  },
  {
   "cell_type": "markdown",
   "metadata": {},
   "source": [
    "### Strings\n",
    "A string is a simple data type which holds a sequence of characters.\n",
    "\n",
    "Strings are placed in quotes when they are being assigned, but the quotes don’t count as part of the string value.\n",
    "\n",
    "If you need to use quotes as part of your string you can arbitrarily use either single of double quotes to indicate the start and end of the string.\n",
    "can add together variables and strings"
   ]
  },
  {
   "cell_type": "code",
   "execution_count": 47,
   "metadata": {},
   "outputs": [
    {
     "name": "stdout",
     "output_type": "stream",
     "text": [
      "Hello World\n",
      "Hello Peter How are you?\n",
      "Hello this is Peter's code\n"
     ]
    }
   ],
   "source": [
    "mystring = \"Hello World\"\n",
    "print(mystring)\n",
    "\n",
    "name = \"Peter\"\n",
    "mystring = 'Hello ' + name + ' How are you?'\n",
    "print(mystring)\n",
    "\n",
    "##optional\n",
    "name = \"Peter\"\n",
    "mystring = 'Hello this is ' + name + \"'s code\"\n",
    "print(mystring)"
   ]
  },
  {
   "cell_type": "markdown",
   "metadata": {},
   "source": [
    "## Booleans\n",
    "\n",
    "So far we have seen three basic Python data types; Integer, Float and String. There is another basic data type; Boolean. Boolean variables can only have the values of either True or False. (Remember, Python is case sensitive, so be careful of your spelling.) We can define variables to be of type boolean by setting their value accordingly. Boolean variables are a good way of coding anything that has a binary range (eg: yes/no), because it’s a type that computers know how to work with as we will see soon."
   ]
  },
  {
   "cell_type": "code",
   "execution_count": 48,
   "metadata": {},
   "outputs": [
    {
     "name": "stdout",
     "output_type": "stream",
     "text": [
      "<class 'bool'>\n",
      "True\n",
      "<class 'bool'>\n",
      "False\n"
     ]
    }
   ],
   "source": [
    "bool_t = True\n",
    "print(type(bool_t))\n",
    "print(bool_t)\n",
    "bool_f = False\n",
    "print(type(bool_f))\n",
    "print(bool_f)"
   ]
  },
  {
   "cell_type": "markdown",
   "metadata": {},
   "source": [
    "We can also get variables of this type using comparison operators, basic ones in Python are == for “equal to”, != for “not equal to”, and >, <, or >=, <=.b"
   ]
  },
  {
   "cell_type": "code",
   "execution_count": 49,
   "metadata": {},
   "outputs": [
    {
     "name": "stdout",
     "output_type": "stream",
     "text": [
      "False\n",
      "True\n",
      "True\n",
      "False\n",
      "True\n"
     ]
    }
   ],
   "source": [
    "print('hello' == 'HELLO')\n",
    "print(3 != 77)\n",
    "print(1 < 2)\n",
    "print('four' >= 'three')\n",
    "\n",
    "#optional\n",
    "print('hello' is 'hello')"
   ]
  },
  {
   "cell_type": "markdown",
   "metadata": {},
   "source": [
    "### Changing data types\n",
    "The data type of a variable is assigned when you give a variable a value as we did above. If you re-assign the value of a variable, you can change the data type.\n",
    "You can also explicitly change the type of a variable by casting it using an appropriate Python builtin function. In this example we have changed a string to a float."
   ]
  },
  {
   "cell_type": "code",
   "execution_count": 50,
   "metadata": {},
   "outputs": [
    {
     "name": "stdout",
     "output_type": "stream",
     "text": [
      "<class 'str'>\n",
      "<class 'float'>\n"
     ]
    }
   ],
   "source": [
    "a = \"3.142\"\n",
    "print(type(a))\n",
    "a = float(a)\n",
    "print(type(a))"
   ]
  },
  {
   "cell_type": "code",
   "execution_count": 51,
   "metadata": {},
   "outputs": [
    {
     "name": "stdout",
     "output_type": "stream",
     "text": [
      "3.142\n",
      "<class 'float'>\n",
      "3\n",
      "<class 'int'>\n"
     ]
    }
   ],
   "source": [
    "# if you convert from float to integer you may lose precision\n",
    "a = 3.142\n",
    "print(a)\n",
    "print(type(a))\n",
    "#cast to integer\n",
    "a = int(a)\n",
    "print(a)\n",
    "print(type(a))"
   ]
  },
  {
   "cell_type": "code",
   "execution_count": 52,
   "metadata": {},
   "outputs": [
    {
     "name": "stdout",
     "output_type": "stream",
     "text": [
      "<class 'str'>\n"
     ]
    },
    {
     "ename": "ValueError",
     "evalue": "invalid literal for int() with base 10: 'Hello World'",
     "output_type": "error",
     "traceback": [
      "\u001b[1;31m---------------------------------------------------------------------------\u001b[0m",
      "\u001b[1;31mValueError\u001b[0m                                Traceback (most recent call last)",
      "\u001b[1;32m<ipython-input-52-9e28ea04cd94>\u001b[0m in \u001b[0;36m<module>\u001b[1;34m\u001b[0m\n\u001b[0;32m      4\u001b[0m \u001b[0mprint\u001b[0m\u001b[1;33m(\u001b[0m\u001b[0mtype\u001b[0m\u001b[1;33m(\u001b[0m\u001b[0mb\u001b[0m\u001b[1;33m)\u001b[0m\u001b[1;33m)\u001b[0m\u001b[1;33m\u001b[0m\u001b[1;33m\u001b[0m\u001b[0m\n\u001b[0;32m      5\u001b[0m \u001b[1;33m\u001b[0m\u001b[0m\n\u001b[1;32m----> 6\u001b[1;33m \u001b[0mb\u001b[0m \u001b[1;33m=\u001b[0m \u001b[0mint\u001b[0m\u001b[1;33m(\u001b[0m\u001b[0mb\u001b[0m\u001b[1;33m)\u001b[0m\u001b[1;33m\u001b[0m\u001b[1;33m\u001b[0m\u001b[0m\n\u001b[0m\u001b[0;32m      7\u001b[0m \u001b[0mprint\u001b[0m\u001b[1;33m(\u001b[0m\u001b[0mtype\u001b[0m\u001b[1;33m(\u001b[0m\u001b[0mb\u001b[0m\u001b[1;33m)\u001b[0m\u001b[1;33m)\u001b[0m\u001b[1;33m\u001b[0m\u001b[1;33m\u001b[0m\u001b[0m\n",
      "\u001b[1;31mValueError\u001b[0m: invalid literal for int() with base 10: 'Hello World'"
     ]
    }
   ],
   "source": [
    "#In some circumstances explicitly converting a data type makes no sense; you cannot change a string with alphabetic characters into a number.\n",
    "\n",
    "b = \"Hello World\"\n",
    "print(type(b))\n",
    "\n",
    "b = int(b)\n",
    "print(type(b))"
   ]
  },
  {
   "cell_type": "code",
   "execution_count": 53,
   "metadata": {},
   "outputs": [
    {
     "name": "stdout",
     "output_type": "stream",
     "text": [
      "<class 'bool'>\n",
      "True\n",
      "<class 'int'>\n",
      "1\n"
     ]
    }
   ],
   "source": [
    "#you can however turn a string into a boolean\n",
    "b = \"TRUE\"\n",
    "b = bool(b)\n",
    "print(type(b))\n",
    "print(b)\n",
    "\n",
    "#and a boolean into an integer\n",
    "b = int(b)\n",
    "print(type(b))\n",
    "print(b)\n",
    "\n",
    "# True always evaluates to 1 and False to 0"
   ]
  },
  {
   "cell_type": "markdown",
   "metadata": {},
   "source": [
    "## Exercise\n",
    "Imagine you are considering different ways of representing a boolean value in your data set and you need to see how python will behave based on the different choices. Fill in the blanks using the built in functions we’ve seen so far in following code excerpt to test how Python interprets text. Write some notes for your research team on how to code True and False as they record the variable."
   ]
  },
  {
   "cell_type": "code",
   "execution_count": 54,
   "metadata": {},
   "outputs": [
    {
     "ename": "TypeError",
     "evalue": "'str' object is not callable",
     "output_type": "error",
     "traceback": [
      "\u001b[1;31m---------------------------------------------------------------------------\u001b[0m",
      "\u001b[1;31mTypeError\u001b[0m                                 Traceback (most recent call last)",
      "\u001b[1;32m<ipython-input-54-e760d8baa794>\u001b[0m in \u001b[0;36m<module>\u001b[1;34m\u001b[0m\n\u001b[0;32m      1\u001b[0m \u001b[1;36m1.\u001b[0m\u001b[1;33m\u001b[0m\u001b[1;33m\u001b[0m\u001b[0m\n\u001b[0;32m      2\u001b[0m \u001b[0mbool_val1\u001b[0m \u001b[1;33m=\u001b[0m \u001b[1;34m'TRUE'\u001b[0m\u001b[1;33m\u001b[0m\u001b[1;33m\u001b[0m\u001b[0m\n\u001b[1;32m----> 3\u001b[1;33m \u001b[0mprint\u001b[0m\u001b[1;33m(\u001b[0m\u001b[1;34m'read as type '\u001b[0m\u001b[1;33m,\u001b[0m\u001b[0m___\u001b[0m\u001b[1;33m(\u001b[0m\u001b[0mbool_val1\u001b[0m\u001b[1;33m)\u001b[0m\u001b[1;33m)\u001b[0m\u001b[1;33m\u001b[0m\u001b[1;33m\u001b[0m\u001b[0m\n\u001b[0m\u001b[0;32m      4\u001b[0m \u001b[0mprint\u001b[0m\u001b[1;33m(\u001b[0m\u001b[1;34m'value when cast to bool'\u001b[0m\u001b[1;33m,\u001b[0m\u001b[0m___\u001b[0m\u001b[1;33m(\u001b[0m\u001b[0mbool_val1\u001b[0m\u001b[1;33m)\u001b[0m\u001b[1;33m)\u001b[0m\u001b[1;33m\u001b[0m\u001b[1;33m\u001b[0m\u001b[0m\n\u001b[0;32m      5\u001b[0m \u001b[1;33m\u001b[0m\u001b[0m\n",
      "\u001b[1;31mTypeError\u001b[0m: 'str' object is not callable"
     ]
    }
   ],
   "source": [
    "1. \n",
    "bool_val1 = 'TRUE'\n",
    "print('read as type ',___(bool_val1))\n",
    "print('value when cast to bool',___(bool_val1))\n",
    "\n",
    "2. \n",
    "bool_val2 = 'FALSE'\n",
    "print('read as type ',___(bool_val2))\n",
    "print('value when cast to bool',___(bool_val2))\n",
    "\n",
    "3. \n",
    "bool_val3 = 1\n",
    "print('read as type ',___(bool_val3))\n",
    "print('value when cast to bool',___(bool_val3))\n",
    "\n",
    "4. \n",
    "bool_val4 = 0\n",
    "print('read as type ',___(bool_val4))\n",
    "print('value when cast to bool',___(bool_val4))\n",
    "\n",
    "5. \n",
    "bool_val5 = -1\n",
    "print('read as type ',___(bool_val5))\n",
    "print('value when cast to bool',___(bool_val5))\n",
    "print(bool(bool_val5))"
   ]
  },
  {
   "cell_type": "markdown",
   "metadata": {},
   "source": [
    "0 is represented as False and everything else, whether a number or string is counted as True"
   ]
  },
  {
   "cell_type": "markdown",
   "metadata": {},
   "source": [
    "## String functions\n",
    "There are a variety of Python functions available for use with strings. In Python a string is an object. An object put simply is something which has data, in the case of our string it is the contents of the string and methods. methods is another way of saying functions.\n",
    "\n",
    "## Methods vs. Functions\n",
    "Although methods and functions are very similar in practice, there is a difference in the way you call them. Methods belong to objects and can be used to manipulate them,  while functions aren't. functions are in the form func(), while methods are typically called with a dot notations i.e. Object.method() Multiple methods could be string together like Object.method1().method2().method3() and they execute from left to right. If multiple functions are called they are nested. See next example. execute from inside to out. \n",
    "\n",
    "One typical bit of information you might want to know about a string is its length for this we use the len() function. For almost anything else you might want to do with strings, there is a method. We have already said we can see a list of built in functions on the Python site. "
   ]
  },
  {
   "cell_type": "code",
   "execution_count": null,
   "metadata": {},
   "outputs": [],
   "source": [
    "mystring = \"Hello World\"\n",
    "print(len(mystring))"
   ]
  },
  {
   "cell_type": "markdown",
   "metadata": {},
   "source": [
    "If you want to see a list of all of the available methods for a string (or any other object) you can use the dir() function. The methods starting with __ are special or magic methods which are not normally used.\n",
    "\n",
    "Some examples of the methods are given below. We will use others when we start reading files."
   ]
  },
  {
   "cell_type": "code",
   "execution_count": null,
   "metadata": {},
   "outputs": [],
   "source": [
    "print(dir(mystring))"
   ]
  },
  {
   "cell_type": "code",
   "execution_count": null,
   "metadata": {},
   "outputs": [],
   "source": [
    "myString = \"The quick brown fox\"\n",
    "\n",
    "print(myString.startswith(\"The\"))\n",
    "print(myString.find(\"The\"))        # notice that string positions start with 0 like all indexing in Python\n",
    "print(myString.upper())            # The contents of myString is not changed, if you wanted an uppercase version\n",
    "print(myString)                    # you would have to assign it to a new variableb"
   ]
  },
  {
   "cell_type": "markdown",
   "metadata": {},
   "source": [
    "The methods starting with ‘is…’ return a boolean value of either True or False. \n",
    "\n",
    "the example BELOW returns False because the space character is not considered to be an Alphanumeric value.\n",
    "\n"
   ]
  },
  {
   "cell_type": "code",
   "execution_count": null,
   "metadata": {},
   "outputs": [],
   "source": [
    "print(myString.isalpha())  "
   ]
  },
  {
   "cell_type": "markdown",
   "metadata": {},
   "source": [
    "In the example below, we can use the replace() method to remove the spaces and then check to see if the result isalpha chaining method in this way is quite common. The actions take place in a left to right manner. You can always avoid using chaining by using intermediary variables."
   ]
  },
  {
   "cell_type": "code",
   "execution_count": null,
   "metadata": {},
   "outputs": [],
   "source": [
    "print(myString.replace(\" \",\"\").isalpha())\n",
    "\n",
    "#OR\n",
    "\n",
    "mystring_clean = myString.replace(\" \",\"\")\n",
    "print(mystring_clean.isalpha())"
   ]
  },
  {
   "cell_type": "markdown",
   "metadata": {},
   "source": [
    "If you need to refer to a specific element (character) in a string, you can do so by specifying the index of the character in [] you can also use indexing to select a substring of the string. In Python, indexes begin with 0 (see Index Operator: Working with the Characters of a String for a visual)."
   ]
  },
  {
   "cell_type": "code",
   "execution_count": null,
   "metadata": {},
   "outputs": [],
   "source": [
    "print(myString[0])\n",
    "print(myString[12])\n",
    "#optional\n",
    "print(myString[18])\n",
    "\n",
    "print(myString[0:3])\n",
    "print(myString[0:])        # from index 0 to the end\n",
    "print(myString[:9])        # from the beginning to one before index 9"
   ]
  },
  {
   "cell_type": "markdown",
   "metadata": {},
   "source": [
    "## Structured data types\n",
    "A structured data type is a data type which is made up of some combination of the base data types in a well defined but potentially arbitrarily complex way.\n",
    "List and \n",
    "The other main structured data type is the Dictionary. We will introduce this in a later episode when we look at JSON.\n",
    "### The list\n",
    "A list is a set of values, of any type separated by commas and delimited by ‘[’ and ‘]’"
   ]
  },
  {
   "cell_type": "code",
   "execution_count": null,
   "metadata": {},
   "outputs": [],
   "source": [
    "list1 = [6, 54, 89 ]\n",
    "print(list1)\n",
    "print(type(list1))\n",
    "\n",
    "#optional floats\n",
    "list2 = [3.142, 2.71828, 9.8 ]\n",
    "print(list2)\n",
    "print(type(list2))\n",
    "\n",
    "# can use objects/variables\n",
    "myname = \"Peter\"\n",
    "list3 = [\"Hello\", 'to', myname ]\n",
    "print(list3)\n",
    "myname = \"Fred\"\n",
    "print(list3)\n",
    "print(type(list3))\n",
    "\n",
    "list3 = [\"Hello\", 'to', myname ]\n",
    "print(list3)\n",
    "\n",
    "# can mix datatypes\n",
    "list4 = [6, 5.4, \"numbers\", True ]\n",
    "print(list4)\n",
    "print(type(list4))"
   ]
  },
  {
   "cell_type": "markdown",
   "metadata": {},
   "source": [
    "## Exercise\n",
    "We can index lists the same way we indexed strings before or using a boolean list of the same length.\n",
    "\n",
    "Using the number list defined below, complete the code below and display the values of odd_from_list and last_num_in_list to check your work."
   ]
  },
  {
   "cell_type": "code",
   "execution_count": null,
   "metadata": {},
   "outputs": [],
   "source": [
    "num_list = [4,5,6,11]"
   ]
  },
  {
   "cell_type": "markdown",
   "metadata": {},
   "source": [
    "1.  Fill in the blank\n",
    "is_odd = [False,__, __, __]\n",
    "\n",
    "\n",
    "2. Next use is_odd we generated in #1 to pick out odd numbers from list\n",
    "odd_from_list =\n",
    "\n",
    "\n",
    "3. find the last number in the list\n",
    "last_num_in_list =\n",
    "\n"
   ]
  },
  {
   "cell_type": "markdown",
   "metadata": {},
   "source": [
    "## The range function\n",
    "In addition to explicitly creating lists as we have above it is very common to create and populate them automatically using the range() function in combination with the list() function"
   ]
  },
  {
   "cell_type": "code",
   "execution_count": null,
   "metadata": {},
   "outputs": [],
   "source": [
    "list5 = list(range(5))\n",
    "print(list5)"
   ]
  },
  {
   "cell_type": "markdown",
   "metadata": {},
   "source": [
    "Unless told not to range() returns a sequence which starts at 0, counts up by 1 and ends 1 before the value of the provided parameter.\n",
    "\n",
    "This can be a cause of confusion. range(5) above does indeed have 5 values, but rather than being 1,2,3,4,5 which you might naturally think, they are in fact 0,1,2,3,4. The range starts at 0 and stops one before the value of the single parameter we specified.\n",
    "\n",
    "If you want different sequences, then you can modify the behavior of the range() function by using additional parameters."
   ]
  },
  {
   "cell_type": "code",
   "execution_count": null,
   "metadata": {},
   "outputs": [],
   "source": [
    "list6 = list(range(1, 9))\n",
    "print(list6)\n"
   ]
  },
  {
   "cell_type": "markdown",
   "metadata": {},
   "source": [
    "When you specify 3 parameters as we have for list(7); the first is start value, the second is one past the last value and the 3rd parameter is a step value by which to count. The step value can be negative\n",
    "\n",
    "range(start, stop, step)\n",
    "\n",
    "list7 produces the even numbers from 1 to 10."
   ]
  },
  {
   "cell_type": "code",
   "execution_count": null,
   "metadata": {},
   "outputs": [],
   "source": [
    "# range(start, stop, step)\n",
    "list7 = list(range(2, 11, 2))\n",
    "print(list7)"
   ]
  },
  {
   "cell_type": "code",
   "execution_count": null,
   "metadata": {},
   "outputs": [],
   "source": [
    "## Exercise\n",
    "\n",
    "1. What is produced if you change the step value in list7 to -2 ? Is this what you expected?\n",
    "2. Create a list using the range() function which contains the even number between 1 and 10 in reverse order ([10,8,6,4,2])\n",
    "\n",
    "## Solution\n"
   ]
  },
  {
   "cell_type": "code",
   "execution_count": null,
   "metadata": {},
   "outputs": [],
   "source": [
    "list7 = list(range(2, 11, -2))\n",
    "print(list7)\n",
    "# list7 will print nothing because starting at 2 and incrementing by -2 is the wrong direction to 11.\n",
    "\n",
    "list8 = list(range(10, 1, -2))\n",
    "print(list8)"
   ]
  }
 ],
 "metadata": {
  "kernelspec": {
   "display_name": "Python 3",
   "language": "python",
   "name": "python3"
  },
  "language_info": {
   "codemirror_mode": {
    "name": "ipython",
    "version": 3
   },
   "file_extension": ".py",
   "mimetype": "text/x-python",
   "name": "python",
   "nbconvert_exporter": "python",
   "pygments_lexer": "ipython3",
   "version": "3.7.4"
  }
 },
 "nbformat": 4,
 "nbformat_minor": 4
}
